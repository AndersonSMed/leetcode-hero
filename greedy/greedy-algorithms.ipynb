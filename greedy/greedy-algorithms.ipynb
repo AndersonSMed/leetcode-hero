{
  "nbformat": 4,
  "nbformat_minor": 0,
  "metadata": {
    "colab": {
      "name": "Programação Gulosa.ipynb",
      "provenance": [],
      "collapsed_sections": [],
      "toc_visible": true
    },
    "kernelspec": {
      "name": "python3",
      "display_name": "Python 3"
    }
  },
  "cells": [
    {
      "cell_type": "markdown",
      "metadata": {
        "id": "aof5Xlf20n1P",
        "colab_type": "text"
      },
      "source": [
        "# Algoritmos Gulosos\n",
        "Uma introdução à estratégia de programação 'gulosa'"
      ]
    },
    {
      "cell_type": "markdown",
      "metadata": {
        "id": "kjFOBoPw05pQ",
        "colab_type": "text"
      },
      "source": [
        "![alt text](https://miro.medium.com/max/714/1*o0YLvMkmvhA-QG1YGsRhKg.jpeg)"
      ]
    },
    {
      "cell_type": "markdown",
      "metadata": {
        "id": "6cV0V9GF0hUw",
        "colab_type": "text"
      },
      "source": [
        "De modo geral, algoritmos gulosos são aqueles que **sempre tomam a melhor decisão** que ele consegue encontrar, no conjunto de decisões possíveis a cada iteração, possuindo como objetivo 'coletar' um conjunto de melhores soluções com base em algum determinado critério, formando assim a solução do problema. Os critérios que definem o que seria a melhor decisão a tomar em certa iteração irão variar para cada problema. \n",
        "\n",
        "Tomem como exemplo, a situação em que você tem de sair da sua casa até um certo supermercado da sua cidade. Há várias ruas no caminho, todas com certo comprimento e você decide por utilizar uma abordagem gulosa para chegar até lá. A cada vez que você tem que escolher por qual rua seguir, você decide pela rua com menor comprimento, até chegar ao destino final, o supermercado. \n",
        "\n",
        "No exemplo, cada 'iteração' significa: **Escolha uma rua para seguir**. E a 'decisão gulosa' que foi escolhida foi: **Siga pela rua mais curta**.    \n",
        "\n",
        "Vale reforçar que a tomada de decisão é com base nas informações disponíveis na iteração corrente, sem levar em consideração possíveis consequências futuras da escolha da decisão, ou seja, depois que uma decisão foi tomada, ela não pode ser desfeita.\n",
        "\n",
        "O algoritmo sempre tenta encontrar a melhor solução local, para no fim obter uma solução que resolva o problema, não necessariamente da melhor forma possível.\n",
        "\n"
      ]
    },
    {
      "cell_type": "markdown",
      "metadata": {
        "id": "ReslvGAOHnRR",
        "colab_type": "text"
      },
      "source": [
        "O grafo a baixo ilustra a ideia dos algoritmos gulosos, a cada iteração, o critério utilizado para percorrer o gráfo é escolher o filho de maior peso.\n",
        "\n",
        "![alt text](https://d18l82el6cdm1i.cloudfront.net/uploads/EKKlGLuUQd-greedy-search-path.gif)"
      ]
    },
    {
      "cell_type": "markdown",
      "metadata": {
        "id": "bSMxD8K4M6vo",
        "colab_type": "text"
      },
      "source": [
        "Mas a ideia do problema seria encontrar o caminhos de maior custos (custo é dado pela soma dos nos), nesse problema o algoritimo guloso, não consegue alcançar a melhor solução."
      ]
    },
    {
      "cell_type": "markdown",
      "metadata": {
        "id": "Qo3jB9lc20x3",
        "colab_type": "text"
      },
      "source": [
        "\n",
        "# Características\n",
        "1.   Jamais se arrepende de uma decisão, as escolhas realizadas são definitivas;\n",
        "2.   Não leva em consideração as consequências de suas decisões;\n",
        "3.   Podem fazer cálculos repetitivos;\n",
        "4.   Nem sempre produz a melhor solução final (depende da quantidade de informação fornecida);\n",
        "5.   Quanto mais informações, maior a chance de produzir uma solução melhor\n",
        "\n",
        "\n",
        "\n",
        "\n",
        "\n",
        "\n",
        "\n",
        "\n"
      ]
    },
    {
      "cell_type": "markdown",
      "metadata": {
        "id": "Tvx-dqGn5_Ot",
        "colab_type": "text"
      },
      "source": [
        "\n",
        "# Vantagens\n",
        "\n",
        "1.   Simples e fácil de implementação;\n",
        "2.   Algoritmos de rápida execução;\n",
        "3.   Podem fornecer a melhor solução (estado ideal).\n"
      ]
    },
    {
      "cell_type": "markdown",
      "metadata": {
        "id": "DxzDyS8Q6vIG",
        "colab_type": "text"
      },
      "source": [
        "#Desvantagens\n",
        "1.   Nem sempre conduz a soluções ótimas globais. Podem efetuar cálculos repetitivos.\n",
        "2. Escolhe o caminho que, à primeira vista, é mais econômico.\n",
        "3. Pode entrar em loop se não detectar a expansão de estados repetidos.\n",
        "4. Pode tentar desenvolver um caminho infinito."
      ]
    },
    {
      "cell_type": "markdown",
      "metadata": {
        "id": "RvJEyY2LDxnS",
        "colab_type": "text"
      },
      "source": [
        "#Exemplos\n",
        "\n",
        "Os exemplos abaixo são questões provindas do site LeetCode, que possui questões de algoritmos dos mais diversos assuntos e que comumente aparecem em entrevistas de programação"
      ]
    },
    {
      "cell_type": "markdown",
      "metadata": {
        "id": "9jnR3KL1D1Zw",
        "colab_type": "text"
      },
      "source": [
        "**EXEMPLO 1**\n",
        "[Questão 1221](https://leetcode.com/problems/split-a-string-in-balanced-strings/) do site leetcode\n",
        "\n",
        "**Separe uma string em strings balanceadas**\n",
        "\n",
        "String balanceadas são aquelas que possuem quantidades iguais de caracteres 'L' e 'R'.\n",
        "\n",
        "Dada uma string, divida-a na quantidade máxima de substrings balanceadas. Retorne a quantidade máxima de string balanceadas divididas."
      ]
    },
    {
      "cell_type": "markdown",
      "metadata": {
        "id": "h_a_0fu2W9sX",
        "colab_type": "text"
      },
      "source": [
        "O problema pode ser compreendido da seguinte forma:\n",
        "\n",
        "Para separar a string de maneira correta, temos que iniciar dois contadores, um para \"L\" e um para \"R\".\n",
        "\n",
        "Depois de iniciar os contadores, vamos interar sobre a string adcionando aos contadores as ocorrencias de \"L\" e \"R\" e sempre que o valor dos contadores de \"R\" e \"L\" forem iguais e maiores que 0 é certo que ali está uma sub string balanceada.\n",
        "\n",
        "Nesse momento o algoritmo deve separar a string, fazendo uma ação definitiva, caracteristica de programação gulosa.\n",
        "\n",
        "No fim do laço basta retorna o numero de separações que a string teve ao longo da execução, que foi armazenado em \"output\".\n",
        "\n",
        "Segue abaixo o codigo da função:"
      ]
    },
    {
      "cell_type": "code",
      "metadata": {
        "id": "ZQxQek8jCTgh",
        "colab_type": "code",
        "colab": {}
      },
      "source": [
        "def balanced_strings_split(s):\n",
        "    count = {\n",
        "        \"L\" : 0,\n",
        "        \"R\" : 0,\n",
        "    }\n",
        "    output = 0\n",
        "    for char in s:\n",
        "        count[char] +=1\n",
        "        if count[\"L\"] == count[\"R\"]:\n",
        "            output += 1\n",
        "    return output"
      ],
      "execution_count": 0,
      "outputs": []
    },
    {
      "cell_type": "markdown",
      "metadata": {
        "id": "N4Flpk4bXGzt",
        "colab_type": "text"
      },
      "source": [
        "Testando o codigo com uma entrada balanceada:"
      ]
    },
    {
      "cell_type": "code",
      "metadata": {
        "id": "MyIKK0g8DGUy",
        "colab_type": "code",
        "colab": {}
      },
      "source": [
        "print(balanced_strings_split(\"LLLRRLRRLRRRLRLL\"))"
      ],
      "execution_count": 0,
      "outputs": []
    },
    {
      "cell_type": "markdown",
      "metadata": {
        "id": "cTU0JwDRDTfE",
        "colab_type": "text"
      },
      "source": [
        "**EXEMPLO 2**\n",
        "[Questão 55](https://leetcode.com/problems/jump-game/). Jump Game do site leetcode\n",
        "\n",
        "**Dada uma matriz de números inteiros não negativos, você está inicialmente posicionado no primeiro índice da matriz.**\n",
        "\n",
        "\n",
        "Cada elemento da matriz representa seu comprimento máximo de salto nessa posição.\n",
        "\n",
        "Determine se você consegue alcançar o último índice."
      ]
    },
    {
      "cell_type": "markdown",
      "metadata": {
        "id": "cF_ZwDRCEIxB",
        "colab_type": "text"
      },
      "source": [
        "Solução:\n"
      ]
    },
    {
      "cell_type": "code",
      "metadata": {
        "id": "bYUjUMSZGMgu",
        "colab_type": "code",
        "colab": {}
      },
      "source": [
        "def canJump(self, nums: List[int]) -> bool:\n",
        "    r=0\n",
        "    for l in range(len(nums)):\n",
        "        if l>r:\n",
        "            return False\n",
        "        r=max(r,l+nums[l])\n",
        "        if r>=len(nums)-1:\n",
        "            return True"
      ],
      "execution_count": 0,
      "outputs": []
    },
    {
      "cell_type": "markdown",
      "metadata": {
        "id": "bU4EglKMVlMW",
        "colab_type": "text"
      },
      "source": [
        "**EXEMPLO 3**\n",
        "[763.](https://leetcode.com/problems/partition-labels/). Partition Labels\n",
        "\n",
        "Uma sequência S de letras minúsculas é fornecida. Queremos particionar essa string em tantas partes quanto possível, para que cada letra apareça em no máximo uma parte e retorne uma lista de números inteiros representando o tamanho dessas partes.\n",
        "\n",
        "Seja:  \n",
        "\n",
        "Entrada: S = \"ababcbacadefegdehijhklij\"\n",
        "\n",
        "Saída: [9,7,8]\n",
        "\n",
        "Explicando a saída:\n",
        "\n",
        "As partições são \"ababcbaca\", \"defegde\", \"hijhklij\"."
      ]
    },
    {
      "cell_type": "markdown",
      "metadata": {
        "id": "Im-wydjVjxat",
        "colab_type": "text"
      },
      "source": [
        "Para entendermos como resolver esse problema, podemos ver a ideia de algortimos gulosos, que sempre vão executar a melhor ação dada as condições atuais. E também não vai mudar seu comportamento perante isso.\n",
        "\n",
        "\n",
        "Temos que percorrer toda a string e verificar se o caractere atual, a sua ultima ocorrencia estoura o limite da partição definida pelo primeiro caractere, se estourar, dizemos que a ultima ocorrencia desse novo caractere é o limite da partição.\n",
        "\n",
        "Percorremos a string até encontrar o limite da partição com essa limitação sendo verdadeira, se isso ocorrer podemos iniciar uma segunda partição."
      ]
    },
    {
      "cell_type": "markdown",
      "metadata": {
        "id": "5XD1_Rks1oAn",
        "colab_type": "text"
      },
      "source": [
        "Abaixo uma solução com as regras corrigidas e citadas."
      ]
    },
    {
      "cell_type": "code",
      "metadata": {
        "id": "c7_NFhVv0gJ0",
        "colab_type": "code",
        "colab": {}
      },
      "source": [
        "def partition_labels(s):\n",
        "    last = {c: i for i,c in enumerate(s)}\n",
        "    j = anchor = 0\n",
        "    ans = []\n",
        "    for i,c in enumerate(s):\n",
        "        j = max(j,last[c])\n",
        "        if i == j:\n",
        "            ans.append(i-anchor + 1)\n",
        "            anchor = i + 1\n",
        "    return ans"
      ],
      "execution_count": 0,
      "outputs": []
    },
    {
      "cell_type": "markdown",
      "metadata": {
        "id": "ZiwbAjYS2-2u",
        "colab_type": "text"
      },
      "source": [
        "Teste da solução"
      ]
    },
    {
      "cell_type": "code",
      "metadata": {
        "id": "srsyesM01I4m",
        "colab_type": "code",
        "outputId": "4377cdcc-c1bc-4921-8787-5c6ad9682997",
        "colab": {
          "base_uri": "https://localhost:8080/",
          "height": 34
        }
      },
      "source": [
        "partition_labels(\"ababcbacadefegdehijhklij\")"
      ],
      "execution_count": 0,
      "outputs": [
        {
          "output_type": "execute_result",
          "data": {
            "text/plain": [
              "[9, 7, 8]"
            ]
          },
          "metadata": {
            "tags": []
          },
          "execution_count": 70
        }
      ]
    }
  ]
}